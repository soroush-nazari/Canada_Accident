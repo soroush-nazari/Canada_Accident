{
 "cells": [
  {
   "cell_type": "markdown",
   "metadata": {},
   "source": [
    "## Canada Accident Analysis 1999-2017\n",
    "\n",
    "- The project gives detailed insights into **Canada long-term road accident between 1999 - 2017,** which includes but not limited to potential casualties due to road accidents, areas most affected by accidents, impact of aggressive driving, and geographical regions well known for accidents, and environmental condition.\n",
    "\n",
    "- This notebook represents the exploration and visualization of the National Collision Database (NCDB) [Dataset](https://open.canada.ca/data/en/dataset/1eb9eba7-71d1-4b30-9fb1-30cbdab7e63a)"
   ]
  },
  {
   "cell_type": "markdown",
   "metadata": {},
   "source": [
    "### Contents\n",
    "**1. proposing Questions to be answered**\n",
    "\n",
    "**2. Reading Data**\n",
    "\n",
    "**3. Cleaning Data**\n",
    "\n",
    "**4. Exploration**\n",
    "\n",
    "**5. Conclusion**"
   ]
  },
  {
   "cell_type": "markdown",
   "metadata": {},
   "source": [
    "#### Questions\n",
    "\n",
    "3.1 Exploration based on date of accidents\n",
    "\n",
    "- Is the number of Accidents per year decreasing ? (from 1999 to 2017)\n",
    "- Which months have higher frequency of Accidents ?\n",
    "- Which Day-of-the-Month is most safe to drive ?\n",
    "- Time series of all accidents from 2005 to 2016\n",
    "- Time series for all accidents in each year\n",
    "\n",
    "3.2 Exploration based on roads where accidents occured\n",
    "\n",
    "- Which types of roads are high risk?\n",
    "- Which type of road gradient is high risk?\n",
    "\n",
    "3.3 Exploration based on people involved in the accidents\n",
    "\n",
    "- What was the condition of the people after the accident?\n",
    "- What was the age distribution of the people involved?\n",
    "- What was the sex distribution of the people involved?\n",
    "\n",
    "3.4 Exploration based on use of safety equipment\n",
    "\n",
    "- What was the distribution of Safety Equipment used?\n",
    "- Did use of Safety Eqipment impact condition of people after the accident?"
   ]
  },
  {
   "cell_type": "code",
   "execution_count": 9,
   "metadata": {},
   "outputs": [],
   "source": [
    "import pandas as pd\n",
    "import numpy as np\n",
    "import plotly.graph_objs as go\n",
    "from plotly.offline import init_notebook_mode, iplot\n",
    "import calendar\n",
    "import plotly.express as px"
   ]
  },
  {
   "cell_type": "code",
   "execution_count": 10,
   "metadata": {},
   "outputs": [
    {
     "name": "stderr",
     "output_type": "stream",
     "text": [
      "/opt/anaconda3/lib/python3.7/site-packages/IPython/core/interactiveshell.py:3063: DtypeWarning:\n",
      "\n",
      "Columns (1,2,5,12) have mixed types.Specify dtype option on import or set low_memory=False.\n",
      "\n"
     ]
    }
   ],
   "source": [
    "df = pd.read_csv('NCDB_1999_to_2017.csv')"
   ]
  },
  {
   "cell_type": "code",
   "execution_count": 11,
   "metadata": {},
   "outputs": [
    {
     "name": "stdout",
     "output_type": "stream",
     "text": [
      "<class 'pandas.core.frame.DataFrame'>\n",
      "RangeIndex: 6772563 entries, 0 to 6772562\n",
      "Data columns (total 23 columns):\n",
      " #   Column  Dtype \n",
      "---  ------  ----- \n",
      " 0   C_YEAR  int64 \n",
      " 1   C_MNTH  object\n",
      " 2   C_WDAY  object\n",
      " 3   C_HOUR  object\n",
      " 4   C_SEV   int64 \n",
      " 5   C_VEHS  object\n",
      " 6   C_CONF  object\n",
      " 7   C_RCFG  object\n",
      " 8   C_WTHR  object\n",
      " 9   C_RSUR  object\n",
      " 10  C_RALN  object\n",
      " 11  C_TRAF  object\n",
      " 12  V_ID    object\n",
      " 13  V_TYPE  object\n",
      " 14  V_YEAR  object\n",
      " 15  P_ID    object\n",
      " 16  P_SEX   object\n",
      " 17  P_AGE   object\n",
      " 18  P_PSN   object\n",
      " 19  P_ISEV  object\n",
      " 20  P_SAFE  object\n",
      " 21  P_USER  object\n",
      " 22  C_CASE  int64 \n",
      "dtypes: int64(3), object(20)\n",
      "memory usage: 1.2+ GB\n"
     ]
    }
   ],
   "source": [
    "pd.options.display.max_columns = None\n",
    "df.info()"
   ]
  },
  {
   "cell_type": "markdown",
   "metadata": {},
   "source": [
    "## Data Cleaning"
   ]
  },
  {
   "cell_type": "code",
   "execution_count": null,
   "metadata": {},
   "outputs": [],
   "source": [
    "df_clean = df.replace(['UU','XX','U','X','UUUU','XXXX'], np.nan, regex=False)\n",
    "\n",
    "def missing_data(data):\n",
    "    total = data.isnull().sum().sort_values(ascending = False)\n",
    "    percent = (data.isnull().sum()/data.isnull().count()*100).sort_values(ascending = False)\n",
    "    return pd.concat([total, percent], axis=1, keys=['Total NaN Values', 'Percentage of NaN Values'])\n",
    "\n",
    "missing_data(df_clean)"
   ]
  },
  {
   "cell_type": "code",
   "execution_count": null,
   "metadata": {},
   "outputs": [],
   "source": [
    "# Change the data type of specific columns to float64 \n",
    "df_clean['C_MNTH'] = pd.to_numeric(df['C_MNTH'], errors='coerce')\n",
    "df_clean['C_WDAY'] = pd.to_numeric(df['C_WDAY'], errors='coerce')"
   ]
  },
  {
   "cell_type": "markdown",
   "metadata": {},
   "source": [
    "### What's the road accidents trend from 1999 to 2017?"
   ]
  },
  {
   "cell_type": "code",
   "execution_count": null,
   "metadata": {},
   "outputs": [],
   "source": [
    "def create_stack_bar_data(col, df):\n",
    "    aggregated = df[col].value_counts().sort_index()\n",
    "    x_values = aggregated.index.tolist()\n",
    "    y_values = aggregated.values.tolist()\n",
    "    return x_values, y_values\n",
    "\n",
    "x1, y1 = create_stack_bar_data('C_YEAR', df_clean)\n",
    "\n",
    "#x1 = x1[:-1]\n",
    "#y1 = y1[:-1]\n",
    "#color1 = ['092a35']*9\n",
    "#color2 = ['a2738c']*3\n",
    "#color1.extend(color2)\n",
    "trace1 = go.Bar(x=x1, y=y1, opacity=0.75, name=\"year count\")\n",
    "layout = dict(height=400, title={'text':'Year wise Number of Accidents in Canada','y':0.85,'x':0.5,'xanchor':'center','yanchor':'top'}, legend=dict(orientation=\"h\"), \n",
    "              xaxis = dict(title = 'Year'), yaxis = dict(title = 'Number of Accidents'))\n",
    "\n",
    "fig = go.Figure(data=[trace1], layout=layout);\n",
    "iplot(fig);"
   ]
  },
  {
   "cell_type": "markdown",
   "metadata": {},
   "source": [
    "### Which months have higher frequency of accidents?"
   ]
  },
  {
   "cell_type": "code",
   "execution_count": null,
   "metadata": {},
   "outputs": [],
   "source": [
    "nu_month = df_clean.groupby('C_MNTH')['C_CASE'].nunique()\n",
    "month = [month for month,df in df_clean.groupby('C_MNTH')]\n",
    "\n",
    "fig = px.bar(df_clean, x = month , y = nu_month, labels={'x':'Month','y':'Number of Accidents'})\n",
    "fig.update_layout(\n",
    "    title={\n",
    "        'text': \"Month Wise Number of Accidents in Canada\",\n",
    "        'y':0.95,\n",
    "        'x':0.5,\n",
    "        'xanchor': 'center',\n",
    "        'yanchor': 'top'})\n",
    "fig.show()"
   ]
  },
  {
   "cell_type": "markdown",
   "metadata": {},
   "source": [
    "### Which Day-of-the-Week is less safe?"
   ]
  },
  {
   "cell_type": "code",
   "execution_count": null,
   "metadata": {},
   "outputs": [],
   "source": [
    "nu_day = df_clean.groupby('C_WDAY')['C_CASE'].nunique()\n",
    "day = [day for day,df in df_clean.groupby('C_WDAY')]\n",
    "fig = px.bar(df_clean, x = day , y = nu_day, labels={'x':'Day of the week','y':'Number of Accidents'})\n",
    "fig.update_layout(\n",
    "    title={\n",
    "        'text': \"\",\n",
    "        'y':0.95,\n",
    "        'x':0.5,\n",
    "        'xanchor': 'center',\n",
    "        'yanchor': 'top'})\n",
    "fig.show()"
   ]
  },
  {
   "cell_type": "code",
   "execution_count": null,
   "metadata": {},
   "outputs": [],
   "source": []
  }
 ],
 "metadata": {
  "kernelspec": {
   "display_name": "Python 3",
   "language": "python",
   "name": "python3"
  },
  "language_info": {
   "codemirror_mode": {
    "name": "ipython",
    "version": 3
   },
   "file_extension": ".py",
   "mimetype": "text/x-python",
   "name": "python",
   "nbconvert_exporter": "python",
   "pygments_lexer": "ipython3",
   "version": "3.7.6"
  }
 },
 "nbformat": 4,
 "nbformat_minor": 4
}
